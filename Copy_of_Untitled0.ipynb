{
  "nbformat": 4,
  "nbformat_minor": 0,
  "metadata": {
    "colab": {
      "name": "Copy of Untitled0.ipynb",
      "provenance": [],
      "collapsed_sections": [],
      "include_colab_link": true
    },
    "kernelspec": {
      "name": "python3",
      "display_name": "Python 3"
    }
  },
  "cells": [
    {
      "cell_type": "markdown",
      "metadata": {
        "id": "view-in-github",
        "colab_type": "text"
      },
      "source": [
        "<a href=\"https://colab.research.google.com/github/relly2008/CodingForReal/blob/master/Copy_of_Untitled0.ipynb\" target=\"_parent\"><img src=\"https://colab.research.google.com/assets/colab-badge.svg\" alt=\"Open In Colab\"/></a>"
      ]
    },
    {
      "cell_type": "code",
      "metadata": {
        "id": "lC120rCWxB5s",
        "colab_type": "code",
        "outputId": "ae57ac93-02a3-4620-c55f-a16e52ce43fc",
        "colab": {
          "base_uri": "https://localhost:8080/",
          "height": 136
        }
      },
      "source": [
        "##SIC BO - INPUT File\n",
        "\n",
        "##User input \n",
        "dice1 = int(input('First dice : \\t'))\n",
        "dice2 = int(input('Second dice : \\t'))\n",
        "dice3 = int(input('Third dice : \\t'))\n",
        "\n",
        "##adding multiple numbers##\n",
        "results = dice1 + dice2 + dice3\n",
        "print(results)\n",
        "\n",
        "##This will produce even/odd outcome##\n",
        "evenodd = results % 2\n",
        "if (evenodd == 0):\n",
        "    print(results, \" is an even num\")\n",
        "else:\n",
        "    print(results, \" is an odd num\")\n",
        "\n",
        "##This will produce largest num\n",
        "def largest(num1, num2, num3):\n",
        "  if (num1 > num2) and (num1 > num3):\n",
        "    largest_num = num1\n",
        "  elif (num2 > num1) and (num2 > num3):\n",
        "    largest_num = num2\n",
        "  else:\n",
        "    largest_num = num3\n",
        "  print(\"the largest is : \", largest_num) \n",
        "\n",
        "##This will produce smallest num\n",
        "def smallest(num1, num2, num3):\n",
        "  if (num1 < num2) and (num1 < num3):\n",
        "    smallest_num = num1\n",
        "  elif (num2 < num1) and (num2 < num3):\n",
        "    smallest_num = num2\n",
        "  else:\n",
        "    smallest_num = num3\n",
        "  print(\"the smallest is : \", smallest_num)      \n",
        "\n",
        "largest(dice1, dice2, dice3)\n",
        "smallest(dice1, dice2, dice3) "
      ],
      "execution_count": 3,
      "outputs": [
        {
          "output_type": "stream",
          "text": [
            "First dice : \t1\n",
            "Second dice : \t2\n",
            "Third dice : \t3\n",
            "6\n",
            "6  is an even num\n",
            "the largest is :  3\n",
            "the smallest is :  1\n"
          ],
          "name": "stdout"
        }
      ]
    }
  ]
}